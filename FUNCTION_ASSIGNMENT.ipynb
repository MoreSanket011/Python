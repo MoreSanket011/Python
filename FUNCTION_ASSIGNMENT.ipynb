{
  "nbformat": 4,
  "nbformat_minor": 0,
  "metadata": {
    "colab": {
      "provenance": []
    },
    "kernelspec": {
      "name": "python3",
      "display_name": "Python 3"
    },
    "language_info": {
      "name": "python"
    }
  },
  "cells": [
    {
      "cell_type": "code",
      "execution_count": 18,
      "metadata": {
        "colab": {
          "base_uri": "https://localhost:8080/"
        },
        "id": "Piu87mc5mQwA",
        "outputId": "17600ed9-67ae-4312-bdb5-af426c93f39d"
      },
      "outputs": [
        {
          "output_type": "stream",
          "name": "stdout",
          "text": [
            "this is str keyword exaample \n",
            "this is str2 keyword example \n",
            "20\n",
            "<class 'int'>\n",
            "20.800001\n",
            "25.0\n",
            "<class 'float'>\n",
            "<class 'float'>\n",
            "(2+0j)\n",
            "(10+2j)\n",
            "<class 'complex'>\n"
          ]
        }
      ],
      "source": [
        "# Assignments on Functions                                                SANKET MORE\n",
        "\n",
        "# Q1) Give below 4 Example of Keyword Functions:-\n",
        "# str\n",
        "# int\n",
        "# float\n",
        "# complex\n",
        "\n",
        "#1(string)\n",
        "\n",
        "def str_keyword(str):\n",
        "  print(str)\n",
        "  return\n",
        "\n",
        "str_keyword(str=\"this is str keyword exaample \")\n",
        "str_keyword(str=\"this is str2 keyword example \")\n",
        "\n",
        "#2)int\n",
        "A = 20.50\n",
        "int_keyword = int(A)\n",
        "\n",
        "print(int_keyword)\n",
        "print(type(int_keyword))\n",
        "\n",
        "\n",
        "#float\n",
        "B = str(\"20.800001\")\n",
        "float_keyword = float(B)\n",
        "print(float_keyword)\n",
        "\n",
        "C = 25\n",
        "float_keyword1 = float(C)\n",
        "print(float_keyword1)\n",
        "print(type(float_keyword1))\n",
        "print(type(float_keyword))\n",
        "\n",
        "\n",
        "#Complex\n",
        "\n",
        "A = 2\n",
        "complex_keyword = complex(A)\n",
        "\n",
        "print(complex_keyword)\n",
        "\n",
        "B = 10 + 2j\n",
        "complex_no = complex(B)\n",
        "print(complex_no)\n",
        "print(type(complex_no))\n",
        "\n"
      ]
    },
    {
      "cell_type": "code",
      "source": [
        "# Q2)  Write a Programs to Convert the U.S. Dollars to Indian Rupees\n",
        "\n",
        "usd = int(input(\"Enter currency in USD: \"))\n",
        "inr = usd * 83\n",
        "\n",
        "print(\"The currency in INR is\", inr)\n",
        "\n"
      ],
      "metadata": {
        "colab": {
          "base_uri": "https://localhost:8080/"
        },
        "id": "_fHE1j4rt_am",
        "outputId": "62255816-e159-4008-89d0-58b3a5be6ba8"
      },
      "execution_count": 44,
      "outputs": [
        {
          "output_type": "stream",
          "name": "stdout",
          "text": [
            "Enter currency in USD: 6\n",
            "The currency in INR is 498\n"
          ]
        }
      ]
    },
    {
      "cell_type": "code",
      "source": [
        "\n",
        "#Q3) Program for a function that accept the two strings as input as an arguments and find the concatenated string\n",
        "\n",
        "\n",
        "def concat_str(first_name, second_str):\n",
        "  strings = (first_name +  second_str )\n",
        "  return strings\n",
        "my_first_name = input(\"Enter Your First Name   \")\n",
        "my_last_name = input(\"Enter Your Last Name   \")\n",
        "result = concat_str(my_first_name , my_last_name)\n",
        "print(\"My Name Is  :  \" , result)\n",
        "\n"
      ],
      "metadata": {
        "colab": {
          "base_uri": "https://localhost:8080/"
        },
        "id": "TgupM6O030kx",
        "outputId": "df4e3067-6659-47b0-e952-52b72a74e2d0"
      },
      "execution_count": 13,
      "outputs": [
        {
          "output_type": "stream",
          "name": "stdout",
          "text": [
            "Sanket More\n",
            "Enter Your First Name   COACH \n",
            "Enter Your Last Name   X.LIVE\n",
            "My Name Is  :   COACH X.LIVE\n"
          ]
        }
      ]
    },
    {
      "cell_type": "code",
      "source": [
        "\n",
        "#Q4) Write a Program for user defined function bin() which converts given number into binary\n",
        "\n",
        "D = int(input(\"Enter a Number \"))\n",
        "E = int(bin(D)[2:])\n",
        "print(E)\n",
        "\n",
        "\n"
      ],
      "metadata": {
        "colab": {
          "base_uri": "https://localhost:8080/"
        },
        "id": "WciSsXw7jQ9g",
        "outputId": "e2c89ded-2cb2-48d7-ebde-5c99a4ad27ba"
      },
      "execution_count": 16,
      "outputs": [
        {
          "output_type": "stream",
          "name": "stdout",
          "text": [
            "Enter a Number 5\n",
            "101\n"
          ]
        }
      ]
    },
    {
      "cell_type": "code",
      "source": [
        "#Q5) Write all Operation of sets inside single function\n",
        "\n",
        "def All_sets_oprations(set1 , set2):\n",
        "\n",
        " union_set = set1.union(set2)\n",
        " intersect_set = set1.intersection(set2)\n",
        " superset = set1.issuperset(set2)\n",
        " subset = set1.issubset(set2)\n",
        " symmetric = set1.symmetric_difference(set2)\n",
        "\n",
        "  # print(f\"union of set : {unionset}\")\n",
        " print(f\"Union of sets: {union_set}\")\n",
        " print(f\"Intersect of sets : {intersect_set}\")\n",
        " print(f\"the superset of sets : {superset}\")\n",
        " print(f\"the subset of set1 nd set2 : {subset}\")\n",
        " print(f\"the symmetric diffrence is : {symmetric}\")\n",
        "\n",
        "\n",
        "\n",
        "set_A = {10,20,40}\n",
        "set_B = {10,10,60,70,20}\n",
        "\n",
        "All_sets_oprations(set_A , set_B)"
      ],
      "metadata": {
        "colab": {
          "base_uri": "https://localhost:8080/"
        },
        "id": "ovlP13T5EUaF",
        "outputId": "7b6e4d60-0473-4ddd-bc76-10329fe6d07c"
      },
      "execution_count": 25,
      "outputs": [
        {
          "output_type": "stream",
          "name": "stdout",
          "text": [
            "Union of sets: {20, 70, 40, 10, 60}\n",
            "Intersect of sets : {10, 20}\n",
            "the superset of sets : False\n",
            "the subset of set1 nd set2 : False\n",
            "the symmetric diffrence is : {70, 40, 60}\n"
          ]
        }
      ]
    },
    {
      "cell_type": "code",
      "source": [
        "#Q6) Give three examples of Variable-length arguments\n",
        "\n",
        "def sum1(*sumall):\n",
        "  result = 0\n",
        "  for sum2 in sumall:\n",
        "    result += sum2\n",
        "  return result\n",
        "\n",
        "def mystring(*string1):\n",
        " result = \"\"\n",
        " for strngs2 in string1:\n",
        "  result += strngs2\n",
        " return result\n",
        "\n",
        "def max_no(*max1):\n",
        " return max(max1) if max1 else None\n",
        "\n",
        "\n",
        "sumall_no =sum1(10,20,30,40,50)\n",
        "\n",
        "all_concate = mystring(\"Sanket \", \"More\")\n",
        "\n",
        "maximum_no = max_no(1,4,6,8,3,0)\n",
        "\n",
        "print(\"the sum of all numbers\" , sumall_no)\n",
        "print(\"the concat of string is\" , all_concate)\n",
        "print(\"the mx no is \",maximum_no )\n",
        "\n"
      ],
      "metadata": {
        "colab": {
          "base_uri": "https://localhost:8080/"
        },
        "id": "T5o9x9otvajH",
        "outputId": "1e4596bc-dc44-4275-eb25-888b8210ca23"
      },
      "execution_count": 5,
      "outputs": [
        {
          "output_type": "stream",
          "name": "stdout",
          "text": [
            "the sum of all numbers 150\n",
            "the concat of string is Sanket More\n",
            "the mx no is  8 150\n"
          ]
        }
      ]
    },
    {
      "cell_type": "code",
      "source": [
        "#Q7) Write a Program for finding the factorial of any number\n",
        "\n",
        "import math as m\n",
        "\n",
        "print(m.factorial(11))"
      ],
      "metadata": {
        "colab": {
          "base_uri": "https://localhost:8080/"
        },
        "id": "d5S3_GST2mcR",
        "outputId": "2b1be0da-e009-4232-92a3-d009081e44f1"
      },
      "execution_count": 6,
      "outputs": [
        {
          "output_type": "stream",
          "name": "stdout",
          "text": [
            "39916800\n"
          ]
        }
      ]
    },
    {
      "cell_type": "code",
      "source": [
        "#Q8) Write a program to create a single function where all maths functions can be  used.\n",
        "import math\n",
        "\n",
        "def perform_math_operation():\n",
        "\n",
        "\n",
        "\n",
        "    get = input(\"Enter the mathematical operation ('add', 'subtract', 'multiply',): \").lower()\n",
        "\n",
        "\n",
        "    numbers = [float(num) for num in input(\"Enter numbers separated by spaces: \").split()]\n",
        "\n",
        "    result = None\n",
        "\n",
        "    if get == 'add':\n",
        "        result = sum(numbers)\n",
        "    elif get == 'subtract':\n",
        "        result = numbers[0] - sum(numbers[1:])\n",
        "    elif get == 'multiply':\n",
        "        result = 1\n",
        "        for num in numbers:\n",
        "            result *= num\n",
        "\n",
        "    else:\n",
        "        print(\"Invalid operation. Supported operations: 'add', 'subtract', 'multiply'\")\n",
        "\n",
        "    return result\n",
        "\n",
        "\n",
        "result = perform_math_operation()\n",
        "\n",
        "print(\"Result:\", result)\n"
      ],
      "metadata": {
        "colab": {
          "base_uri": "https://localhost:8080/"
        },
        "id": "HutVgQH634W7",
        "outputId": "d053bb64-c8ef-41dd-931c-5c5b3645dedb"
      },
      "execution_count": 20,
      "outputs": [
        {
          "output_type": "stream",
          "name": "stdout",
          "text": [
            "Enter the mathematical operation ('add', 'subtract', 'multiply',): add\n",
            "Enter numbers separated by spaces: 2 2 2 2 2  \n",
            "Result: 10.0\n"
          ]
        }
      ]
    },
    {
      "cell_type": "code",
      "source": [
        "# Q10)\n",
        "\n",
        "#  Which keyword is use for function?\n",
        "\n",
        "# A. define\n",
        "# B. fun\n",
        "# C. def                        >>> the anser is C  >>>>>>>>\n",
        "# D. function\n",
        "\n",
        "\n",
        "\n",
        "# 2. Which of the following items are present in the function header?\n",
        "\n",
        "# A. function name\n",
        "# B. parameter list\n",
        "# C. return value\n",
        "# D. Both A and B     >>> the anser is both A and B   >>>>>>>>\n",
        "\n",
        "\n",
        "\n",
        "# 3. What is called when a function is defined inside a class?\n",
        "\n",
        "# A. class\n",
        "# B. function\n",
        "# C. method           >>> the anser is C  >>>>>>>>\n",
        "# D. module\n",
        "\n",
        "\n",
        "\n",
        "# 4. If return statement is not used inside the function, the function will return:\n",
        "\n",
        "# A. None         >>> the anser is A  >>>>>>>>\n",
        "# B. 0\n",
        "# C. Null\n",
        "# D. Arbitary value\n",
        "\n",
        "\n",
        "\n",
        "# 5. What is a recursive function?\n",
        "\n",
        "# A. A function that calls other function.\n",
        "# B. A function which calls itself.           >>> the anser is B  >>>>>>>>\n",
        "# C. Both A and B\n",
        "# D. None of the above\n",
        "\n",
        "\n",
        "\n",
        "# 6. Which of the following is the use of id() function in python?\n",
        "\n",
        "# A. Id() returns the size of object.\n",
        "# B. Id() returns the identity of the object.       >>> the anser is B  >>>>>>>>\n",
        "# C. Both A and B\n",
        "# D. None of the above\n",
        "\n",
        "\n",
        "\n",
        "# 7. Which of the following function headers is correct?\n",
        "\n",
        "# A. def fun(a = 2, b = 3, c)\n",
        "# B. def fun(a = 2, b, c = 3)\n",
        "# C. def fun(a, b = 2, c = 3)        >>> the anser is C  >>>>>>>>\n",
        "# D. def fun(a, b, c = 3, d)\n",
        "\n",
        "\n",
        "# 8. In which part of memory does the system stores the parameter and local variables of funtion call?\n",
        "\n",
        "# A. heap\n",
        "# B. stack                           >>> the anser is B  >>>>>>>>\n",
        "# C. Uninitialized data segment\n",
        "# D. None of the above\n",
        "\n",
        "\n",
        "\n",
        "# 9. Which of the following will print the pi value defined in math module?\n",
        "\n",
        "# A. print(pi)\n",
        "# B. print(math.pi)\n",
        "# C. from math import pi\n",
        "# print(pi)\n",
        "# D. from math import pi        >>> the anser is D  >>>>>>>>\n",
        "# print(math.pi)\n",
        "\n",
        "\n",
        "\n",
        "# 10.  Which operator is used in Python to import modules from packages?\n",
        "\n",
        "# A. .\n",
        "# B. *             >>> the anser is B >>>>>>>>\n",
        "# C. ->\n",
        "# D. &\n",
        "\n",
        "\n",
        "\n",
        "# 11. Where is function defined?\n",
        "\n",
        "# A. Module\n",
        "# B. class\n",
        "# C. Another Function\n",
        "# D. All of the above    >>> the anser is D >>>>>>>>\n",
        "\n",
        "\n",
        "# 12. Lambda is a function in python?\n",
        "\n",
        "# A. True                     >>> the anser is A >>>>>>>>\n",
        "# B. False\n",
        "# C. Lambda is a function in python but user can not use it.\n",
        "# D. None of the above\n",
        "\n",
        "\n",
        "# 13. What is a variable defined outside a function referred to as?\n",
        "\n",
        "# A. local variable\n",
        "# B. global variable           >>> the anser is B >>>>>>>>\n",
        "# C. static Variable\n",
        "# D. automatic variable\n",
        "\n",
        "\n",
        "\n",
        "\n",
        "\n",
        "\n",
        "# 15. What is the output of the following program?\n",
        "\n",
        "# print(chr(ord(chr(97))))\n",
        "# A. a            >>> the anser is A  >>>>>>>> converted ASCII value\n",
        "# B. A\n",
        "# C. 97\n",
        "# D. error\n",
        "\n",
        "\n",
        "\n",
        "# 16. How is a function declared in Python?\n",
        "\n",
        "# A. def function function_name():\n",
        "# B. declare function function_name():\n",
        "# C. def function_name():         >>> the anser is C >>>>>>>>\n",
        "# D. declare function_name():\n",
        "\n",
        "\n",
        "\n",
        "# 17. Which one of the following is the correct way of calling a function?\n",
        "\n",
        "# A. function_name()        >>> the anser is A >>>>>>>>\n",
        "# B. call function_name()\n",
        "# C. ret function_name()\n",
        "# D. function function_name()\n",
        "\n",
        "\n",
        "\n",
        "# 18. Choose the correct option with reference to below Python code?\n",
        "\n",
        "# def fn(a):\n",
        "\n",
        "# \tprint(a)\n",
        "\n",
        "# x=90\n",
        "\n",
        "# fn(x)\n",
        "\n",
        "# A. x is the formal argument.\n",
        "# B. a is the actual argument.\n",
        "# C. fn(x) is the function signature.\n",
        "# D. x is the actual argument.       >>> the anser is D >>>>>>>>\n",
        "\n",
        "\n",
        "\n",
        "# 19. Which one of the following is incorrect?\n",
        "\n",
        "# A. The variables used inside function are called local variables.\n",
        "# B. The local variables of a particular function can be used inside other functions, but these cannot be used in global space   >>> the anser is B >>>>>>>>\n",
        "# C. The variables used outside function are called global variables\n",
        "# D. In order to change the value of global variable inside function, keyword global is used.\n",
        "\n",
        "\n",
        "\n",
        "# 20. You can also create your own functions, these functions are called?\n",
        "\n",
        "# A. built-in functions\n",
        "# B. user-defined functions    >>> the anser is B >>>>>>>>\n",
        "# C. py function\n",
        "# D. None of the above\n",
        "\n",
        "\n",
        "\n",
        "# 21. Function blocks begin with the keyword?\n",
        "\n",
        "# A. define\n",
        "# B. fun\n",
        "# C. function\n",
        "# D. def      >>> the anser is D >>>>>>>>\n",
        "\n",
        "\n",
        "\n",
        "# 22. The code block within every function starts with a ?\n",
        "\n",
        "# A. ;\n",
        "# B. ::\n",
        "# C. :        >>> the anser is C >>>>>>>>\n",
        "# D. %\n",
        "\n",
        "\n",
        "\n",
        "# 23. A return statement with _____ arguments.\n",
        "\n",
        "# A. No\n",
        "# B. 1       >>> the anser is B >>>>>>>>\n",
        "# C. 2\n",
        "# D. Any\n",
        "\n",
        "\n",
        "# 24. ___________ are the arguments passed to a function in correct positional order.\n",
        "\n",
        "# A. Required arguments   >>> the anser is A >>>>>>>>\n",
        "# B. Keyword arguments\n",
        "# C. Default arguments\n",
        "# D. Variable-length arguments"
      ],
      "metadata": {
        "id": "_BcuSNgb_Wvn"
      },
      "execution_count": null,
      "outputs": []
    }
  ]
}