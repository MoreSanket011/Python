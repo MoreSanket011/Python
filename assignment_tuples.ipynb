{
  "nbformat": 4,
  "nbformat_minor": 0,
  "metadata": {
    "colab": {
      "provenance": []
    },
    "kernelspec": {
      "name": "python3",
      "display_name": "Python 3"
    },
    "language_info": {
      "name": "python"
    }
  },
  "cells": [
    {
      "cell_type": "code",
      "execution_count": 2,
      "metadata": {
        "colab": {
          "base_uri": "https://localhost:8080/"
        },
        "id": "ONy-2il50c2R",
        "outputId": "182781f4-4004-4022-91cd-99b5b9a2100f"
      },
      "outputs": [
        {
          "output_type": "stream",
          "name": "stdout",
          "text": [
            "400\n"
          ]
        }
      ],
      "source": [
        "# Assignments :-\n",
        "# 1)Program to create a tuple with numbers and print one item\n",
        "tuple1 = (100, 200, 300, 400, 500)\n",
        "print(tuple1[3])\n"
      ]
    },
    {
      "cell_type": "code",
      "source": [
        "#Program to unpack a tuple in several variables\n",
        "tuple1 = (1, 2, 3, 4, 5)\n",
        "a, b, c, d, e = tuple1\n",
        "\n",
        "print(b)"
      ],
      "metadata": {
        "colab": {
          "base_uri": "https://localhost:8080/"
        },
        "id": "nMDZmDO31CG0",
        "outputId": "012d94d2-6273-4759-8727-27f68d92cea2"
      },
      "execution_count": 3,
      "outputs": [
        {
          "output_type": "stream",
          "name": "stdout",
          "text": [
            "2\n"
          ]
        }
      ]
    },
    {
      "cell_type": "code",
      "source": [
        "#3) Write a program to add an item in a tuple\n",
        "tuple1 = (1, 2, 3, 4, 5)\n",
        "tuple1 = tuple1 + (6,7,0)\n",
        "\n",
        "print(tuple1)"
      ],
      "metadata": {
        "colab": {
          "base_uri": "https://localhost:8080/"
        },
        "id": "E9CpBN_a2iQ9",
        "outputId": "b9485868-28e4-46f6-b7b4-32a6b28a70aa"
      },
      "execution_count": 8,
      "outputs": [
        {
          "output_type": "stream",
          "name": "stdout",
          "text": [
            "(1, 2, 3, 4, 5, 6, 7, 0)\n"
          ]
        }
      ]
    },
    {
      "cell_type": "code",
      "source": [
        "#4) Write a Program to find the repeated items in the tuple\n",
        "tuple1 = (1, 2, 3, 4, 5, 1, 2, 3)\n",
        "repeated = [i for i in tuple1 if tuple1.count(i) > 1]\n",
        "print(\"repeated item is : \", repeated)"
      ],
      "metadata": {
        "colab": {
          "base_uri": "https://localhost:8080/"
        },
        "id": "yipxSZSS3Til",
        "outputId": "c623038e-ba95-449d-b639-65b109385bc8"
      },
      "execution_count": 15,
      "outputs": [
        {
          "output_type": "stream",
          "name": "stdout",
          "text": [
            "repeated item is :  [1, 2, 3, 1, 2, 3]\n"
          ]
        }
      ]
    },
    {
      "cell_type": "code",
      "source": [
        "#5) Create a tuple sequance from 1 to 10 and sperate even and odd nos from it\n",
        "tuplesequence = tuple(range(1, 11))\n",
        "even_numbers = tuple(x for x in tuplesequence if x % 2 == 0)\n",
        "odd_numbers = tuple(x for x in tuplesequence if x % 2 != 0)\n",
        "\n",
        "\n",
        "\n"
      ],
      "metadata": {
        "colab": {
          "base_uri": "https://localhost:8080/"
        },
        "id": "WXK7tzIX5Fzy",
        "outputId": "0a51c0f6-c080-4b9b-a2f7-d0a92af5d382"
      },
      "execution_count": 25,
      "outputs": [
        {
          "output_type": "stream",
          "name": "stdout",
          "text": [
            "[6, 23, 3, 2, 0, 9, 8, 75]\n"
          ]
        }
      ]
    },
    {
      "cell_type": "code",
      "source": [
        "#Which of the following would give an error?\n",
        "\n",
        "# A. list1=[]\n",
        "# B. list1=[]*3               >>>>>> the answer is B <<<<<<<\n",
        "# C. list1=[2,8,7]\n",
        "# D. None of the above\n",
        "\n",
        "\n",
        "\n",
        "# 2. Which of the following is True regarding lists in Python?\n",
        "\n",
        "# A. Lists are immutable.\n",
        "# B. Size of the lists must be specified before its initialization\n",
        "# C. Elements of lists are stored in contagious memory location.   >>>>>>>> The answer is C <<<<<<<<<<\n",
        "# D. size(list1) command is used to find the size of lists.\n",
        "\n",
        "\n",
        "\n",
        "# 3. What will be the output of below Python code?\n",
        "\n",
        "# list1=[8,0,9,5]\n",
        "\n",
        "# print(list1[::-1])\n",
        "# A. [5,9,0,8]                  >>>>>>>>>>> The answer is A  <<<<<<<<<<<<<<\n",
        "# B. [8,0,9]\n",
        "# C. [8,0,9,5]\n",
        "# D. [0,9,5]\n",
        "\n",
        "\n",
        "\n",
        "# 4. Which of the following will give output as [23,2,9,75] ?\n",
        "\n",
        "# If list1=[6,23,3,2,0,9,8,75]\n",
        "# A. print(list1[1:7:2])\n",
        "# B. print(list1[0:7:2])\n",
        "# C. print(list1[1:8:2])       >>>>>>>>>>>>   The answer is  C  <<<<<<<<<<<\n",
        "# D. print(list1[0:8:2])\n",
        "\n",
        "\n",
        "# 5. The marks of a student on 6 subjects are stored in a list, list1=[80,66,94,87,99,95]. How can the student's average mark be calculated?\n",
        "\n",
        "# A. print(avg(list1))\n",
        "# B. print(sum(list1)/len(list1))                        >>>>> The answer is B <<<<<<\n",
        "# C. print(sum(list1)/sizeof(list1))\n",
        "# D. print(total(list1)/len(list1))\n",
        "\n",
        "\n",
        "\n",
        "# 6. What will be the output of following Python code?\n",
        "\n",
        "# list1=[\"Python\",\"Java\",\"c\",\"C\",\"C++\"]\n",
        "\n",
        "# print(min(list1))\n",
        "# A. c\n",
        "# B. C++\n",
        "# C. C                                       <<<<<<< The answer is C capital c >>>>>>>>\n",
        "# D. min function cannot be used on string elements\n",
        "\n",
        "\n",
        "# 7. The elements of a list are arranged in descending order. Which of the following two will give same outputs?\n",
        "#    i. print(list_name.sort())\n",
        "#    ii. print(max(list_name))\n",
        "#    iii. print(list_name.reverse())\n",
        "#    iv. print(list_name[-1])\n",
        "\n",
        "# A. i, ii\n",
        "# B. i, iii\n",
        "# C. ii, iii\n",
        "# D. iii, iv\n",
        "\n",
        "# <<<<<<<<<<<<<<<<<<<<<<   The answer is ii) and also iv) >>>>>>>>>>>>>>>>>>>\n",
        "\n",
        "# 8.  What will be the result after the execution of above Python code?\n",
        "\n",
        "# list1=[3,2,5,7,3,6]\n",
        "\n",
        "# list1.pop(3)\n",
        "\n",
        "# print(list1)\n",
        "# A. [3,2,5,3,6]              <<<<<<<<<< The answer is A >>>>>>>>>\n",
        "# B. [2,5,7,3,6]\n",
        "# C. [2,5,7,6]\n",
        "# D. [3,2,5,7,3,6]\n",
        "\n",
        "\n",
        "\n",
        "# 9. What will be the output of below Python code?\n",
        "\n",
        "# list1=[1,3,5,2,4,6,2]\n",
        "\n",
        "# list1.remove(2)\n",
        "\n",
        "# print(sum(list1))\n",
        "# A. 18            <<<<<<<<<<<  The answer is A >>>>>>>>>>\n",
        "# B. 19\n",
        "# C. 21\n",
        "# D. 22\n",
        "\n",
        "\n",
        "\n",
        "# 10. What will be the output of below Python code?\n",
        "\n",
        "# list1=[\"tom\",\"mary\",\"simon\"]\n",
        "\n",
        "# list1.insert(5,8)\n",
        "\n",
        "# print(list1)\n",
        "# A. [\"tom\", \"mary\", \"simon\", 5]\n",
        "# B. [\"tom\", \"mary\", \"simon\", 8]     <<<<<<<<<<<<  The answer is B >>>>>>\n",
        "# C. [8, \"tom\", \"mary\", \"simon\"]\n",
        "# D. Error\n"
      ],
      "metadata": {
        "id": "RYu7h9l26_AX"
      },
      "execution_count": 30,
      "outputs": []
    },
    {
      "cell_type": "code",
      "source": [
        "# Which of the following creates a tuple?\n",
        "\n",
        "# A. tuple1=(\"a\",\"b\")                 <<<<<<<<<< The answer is A >>>>>>>>>>>>>>>>\n",
        "# B. tuple1[2]=(\"a\",\"b\")\n",
        "# C. tuple1=(5)*2\n",
        "# D. None of the above\n",
        "\n",
        "\n",
        "\n",
        "# 2. Choose the correct option with respect to Python.\n",
        "\n",
        "# A. Both tuples and lists are immutable.\n",
        "# B. Tuples are immutable while lists are mutable.          <<<<<<<<<<<<<<<< the answer is B >>>>>>>>>>>>\n",
        "# C. Both tuples and lists are mutable.\n",
        "# D. Tuples are mutable while lists are immutable.\n",
        "\n",
        "\n",
        "\n",
        "# 3. Choose the correct option.\n",
        "\n",
        "# A. In Python, a tuple can contain only integers as its elements.\n",
        "# B. In Python, a tuple can contain only strings as its elements.\n",
        "# C. In Python, a tuple can contain both integers and strings as its elements.                <<<<<<<<< The answer is C >>>>>>>>>>\n",
        "# D. In Python, a tuple can contain either string or integer but not both at a time.\n",
        "\n",
        "\n",
        "\n",
        "# 4. What will be the output of below Python code?\n",
        "\n",
        "# tuple1=(5,1,7,6,2)\n",
        "\n",
        "# tuple1.pop(2)\n",
        "\n",
        "# print(tuple1)\n",
        "\n",
        "# A. (5,1,6,2)           <<<<<<<<<<< THe answer is A >>>>>>>>>>\n",
        "# B. (5,1,7,6)\n",
        "# C. (5,1,7,6,2)\n",
        "# D. Error\n",
        "\n",
        "\n",
        "\n",
        "# 5. What will be the output of below Python code?\n",
        "\n",
        "# tuple1=(2,4,3)\n",
        "\n",
        "# tuple3=tuple1*2\n",
        "\n",
        "# print(tuple3)\n",
        "\n",
        "# A. (4,8,6)\n",
        "# B. (2,4,3,2,4,3)               <<<<<<<<<<< THe answer is B  >>>>>>>>>>\n",
        "# C. (2,2,4,4,3,3)\n",
        "# D. Error\n",
        "\n",
        "\n",
        "\n",
        "# 6. What will be the output of below Python code?\n",
        "\n",
        "# tupl=(\"annie\",\"hena\",\"sid\")\n",
        "\n",
        "# print(tupl[-3:0])\n",
        "\n",
        "# A. (\"annie\")\n",
        "# B. ()                             <<<<<<<<<<< THe answer is B  >>>>>>>>>>\n",
        "# C. None\n",
        "# D. Error as slicing is not possible in tuple.\n",
        "\n",
        "\n",
        "\n",
        "# 7. Which of the following options will not result in an error when performed on tuples in Python where tupl=(5,2,7,0,3)?\n",
        "\n",
        "# A. tupl[1]=2\n",
        "# B. tupl.append(2)\n",
        "# C. tupl1=tupl+tupl                   <<<<<<<<<<< THe answer is C  >>>>>>>>>>\n",
        "# D. tupl.sort()\n",
        "\n",
        "\n",
        "\n",
        "# 8. What will be the output of below Python code?\n",
        "\n",
        "# tupl=()\n",
        "\n",
        "# tupl1=tupl*2\n",
        "\n",
        "# print(len(tupl1))\n",
        "# A. 0                        <<<<<<<<<<< THe answer is 0  >>>>>>>>>>\n",
        "# B. 2\n",
        "# C. 1\n",
        "# D. Error as tuple object has no attribute to len\n",
        "\n",
        "\n",
        "\n",
        "# 9. What will be the output of below Python code?\n",
        "\n",
        "# tupl=([2,3],\"abc\",0,9)\n",
        "\n",
        "# tupl[0][1]=1\n",
        "\n",
        "# print(tupl)\n",
        "\n",
        "# A. ([2,3],\"abc\",0,9)\n",
        "# B. ([1,3],\"abc\",0,9)                <<<<<<<<<<< THe answer is B >>>>>>>>>>\n",
        "# C. ([2,1],\"abc\",0,9)\n",
        "# D. Error\n",
        "\n",
        "\n",
        "\n",
        "# 10. Which of the following two Python codes will give same output?\n",
        "# (i) print(tupl[:-1])   0\n",
        "# (ii) print(tupl[0:5])   5,3,1,9,0\n",
        "# (iii) print(tupl[0:4])\n",
        "# (iv) print(tupl[-4:])\n",
        "\n",
        "# If tupl=(5,3,1,9,0)\n",
        "\n",
        "# A. i, ii\n",
        "# B. ii, iv\n",
        "# C. i, iv                <<<<<<<<<<< THe answer is C >>>>>>>>>>\n",
        "# D. i, iii\n",
        "\n"
      ],
      "metadata": {
        "id": "25m0ka8-JN7E"
      },
      "execution_count": 42,
      "outputs": []
    }
  ]
}